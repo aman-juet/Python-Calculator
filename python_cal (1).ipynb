{
  "nbformat": 4,
  "nbformat_minor": 0,
  "metadata": {
    "colab": {
      "provenance": []
    },
    "kernelspec": {
      "name": "python3",
      "display_name": "Python 3"
    },
    "language_info": {
      "name": "python"
    }
  },
  "cells": [
    {
      "cell_type": "code",
      "execution_count": 17,
      "metadata": {
        "colab": {
          "base_uri": "https://localhost:8080/"
        },
        "id": "1uM-mWt8pvCF",
        "outputId": "66c9ea6a-16a9-4da4-9489-c674da1ae58d"
      },
      "outputs": [
        {
          "output_type": "stream",
          "name": "stdout",
          "text": [
            "Calculator using Python /n\n",
            "Enter your first number: 54\n",
            "Enter your second number: 56\n",
            "Enter operation(+,-,*,/)+\n",
            "54 + 56 = \n",
            "110\n"
          ]
        }
      ],
      "source": [
        "print(\"Calculator using Python /n\")\n",
        "num_1 = int(input('Enter your first number: '))\n",
        "num_2 = int(input('Enter your second number: '))\n",
        "p=input(\"Enter operation(+,-,*,/)\")\n",
        "\n",
        "if(p==\"+\"):\n",
        " # Addition\n",
        " print('{} + {} = '.format(num_1, num_2))\n",
        " c=num_1 + num_2\n",
        " \n",
        "# Subtraction\n",
        "elif(p==\"-\"):\n",
        " print('{} - {} = '.format(num_1, num_2))\n",
        " c=num_1 - num_2\n",
        "\n",
        "elif(p==\"*\"): \n",
        "# Multiplication\n",
        " print('{} * {} = '.format(num_1, num_2))\n",
        " c=num_1 * num_2\n",
        "\n",
        "elif(p==\"/\"): \n",
        "# Division\n",
        " print('{} / {} = '.format(num_1, num_2))\n",
        " c=num_1 / num_2\n",
        "\n",
        "print(c)"
      ]
    },
    {
      "cell_type": "code",
      "source": [
        "#file handling\n",
        "f = open(\"data.txt\",\"a\")\n",
        "f.write(str(num_1) + str(p) + str(num_2) +\"=\"+str(c) + \"\\n\")\n",
        "f.close()\n"
      ],
      "metadata": {
        "id": "OTkkiEkgqo3n"
      },
      "execution_count": 18,
      "outputs": []
    }
  ]
}